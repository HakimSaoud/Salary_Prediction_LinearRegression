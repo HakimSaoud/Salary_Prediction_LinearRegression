{
 "cells": [
  {
   "cell_type": "code",
   "id": "initial_id",
   "metadata": {
    "collapsed": true,
    "ExecuteTime": {
     "end_time": "2024-11-16T18:03:13.072003Z",
     "start_time": "2024-11-16T18:03:13.067016Z"
    }
   },
   "source": [
    "import pandas as pd \n",
    "import matplotlib.pyplot as plt"
   ],
   "outputs": [],
   "execution_count": 10
  },
  {
   "metadata": {
    "ExecuteTime": {
     "end_time": "2024-11-16T18:03:13.095239Z",
     "start_time": "2024-11-16T18:03:13.085975Z"
    }
   },
   "cell_type": "code",
   "source": [
    "# data import \n",
    "df = pd.read_csv('salaries.csv')\n",
    "df.head()\n",
    "df"
   ],
   "id": "2a735f56a749dd37",
   "outputs": [
    {
     "data": {
      "text/plain": [
       "    years_of_experience  salary\n",
       "0                     5    3150\n",
       "1                     9    3787\n",
       "2                     4    2991\n",
       "3                    10    4551\n",
       "4                     8    3540\n",
       "..                  ...     ...\n",
       "95                    4    2884\n",
       "96                    4    2810\n",
       "97                    2    2488\n",
       "98                    7    3661\n",
       "99                    2    2496\n",
       "\n",
       "[100 rows x 2 columns]"
      ],
      "text/html": [
       "<div>\n",
       "<style scoped>\n",
       "    .dataframe tbody tr th:only-of-type {\n",
       "        vertical-align: middle;\n",
       "    }\n",
       "\n",
       "    .dataframe tbody tr th {\n",
       "        vertical-align: top;\n",
       "    }\n",
       "\n",
       "    .dataframe thead th {\n",
       "        text-align: right;\n",
       "    }\n",
       "</style>\n",
       "<table border=\"1\" class=\"dataframe\">\n",
       "  <thead>\n",
       "    <tr style=\"text-align: right;\">\n",
       "      <th></th>\n",
       "      <th>years_of_experience</th>\n",
       "      <th>salary</th>\n",
       "    </tr>\n",
       "  </thead>\n",
       "  <tbody>\n",
       "    <tr>\n",
       "      <th>0</th>\n",
       "      <td>5</td>\n",
       "      <td>3150</td>\n",
       "    </tr>\n",
       "    <tr>\n",
       "      <th>1</th>\n",
       "      <td>9</td>\n",
       "      <td>3787</td>\n",
       "    </tr>\n",
       "    <tr>\n",
       "      <th>2</th>\n",
       "      <td>4</td>\n",
       "      <td>2991</td>\n",
       "    </tr>\n",
       "    <tr>\n",
       "      <th>3</th>\n",
       "      <td>10</td>\n",
       "      <td>4551</td>\n",
       "    </tr>\n",
       "    <tr>\n",
       "      <th>4</th>\n",
       "      <td>8</td>\n",
       "      <td>3540</td>\n",
       "    </tr>\n",
       "    <tr>\n",
       "      <th>...</th>\n",
       "      <td>...</td>\n",
       "      <td>...</td>\n",
       "    </tr>\n",
       "    <tr>\n",
       "      <th>95</th>\n",
       "      <td>4</td>\n",
       "      <td>2884</td>\n",
       "    </tr>\n",
       "    <tr>\n",
       "      <th>96</th>\n",
       "      <td>4</td>\n",
       "      <td>2810</td>\n",
       "    </tr>\n",
       "    <tr>\n",
       "      <th>97</th>\n",
       "      <td>2</td>\n",
       "      <td>2488</td>\n",
       "    </tr>\n",
       "    <tr>\n",
       "      <th>98</th>\n",
       "      <td>7</td>\n",
       "      <td>3661</td>\n",
       "    </tr>\n",
       "    <tr>\n",
       "      <th>99</th>\n",
       "      <td>2</td>\n",
       "      <td>2496</td>\n",
       "    </tr>\n",
       "  </tbody>\n",
       "</table>\n",
       "<p>100 rows × 2 columns</p>\n",
       "</div>"
      ]
     },
     "execution_count": 11,
     "metadata": {},
     "output_type": "execute_result"
    }
   ],
   "execution_count": 11
  },
  {
   "metadata": {
    "ExecuteTime": {
     "end_time": "2024-11-16T18:03:13.137752Z",
     "start_time": "2024-11-16T18:03:13.131358Z"
    }
   },
   "cell_type": "code",
   "source": [
    "# split the features \n",
    "x = df.iloc[:,:-1].values\n",
    "x"
   ],
   "id": "627ceba3723d982f",
   "outputs": [
    {
     "data": {
      "text/plain": [
       "array([[ 5],\n",
       "       [ 9],\n",
       "       [ 4],\n",
       "       [10],\n",
       "       [ 8],\n",
       "       [ 8],\n",
       "       [ 1],\n",
       "       [ 6],\n",
       "       [ 3],\n",
       "       [ 3],\n",
       "       [ 4],\n",
       "       [ 3],\n",
       "       [ 1],\n",
       "       [ 7],\n",
       "       [ 8],\n",
       "       [ 7],\n",
       "       [10],\n",
       "       [ 1],\n",
       "       [ 9],\n",
       "       [ 4],\n",
       "       [ 7],\n",
       "       [ 5],\n",
       "       [ 8],\n",
       "       [ 6],\n",
       "       [ 2],\n",
       "       [ 8],\n",
       "       [ 3],\n",
       "       [ 6],\n",
       "       [ 2],\n",
       "       [ 4],\n",
       "       [ 7],\n",
       "       [ 8],\n",
       "       [ 2],\n",
       "       [ 5],\n",
       "       [ 5],\n",
       "       [ 7],\n",
       "       [ 9],\n",
       "       [ 2],\n",
       "       [ 2],\n",
       "       [ 7],\n",
       "       [ 1],\n",
       "       [ 5],\n",
       "       [ 4],\n",
       "       [ 6],\n",
       "       [10],\n",
       "       [ 2],\n",
       "       [ 8],\n",
       "       [ 2],\n",
       "       [ 5],\n",
       "       [ 6],\n",
       "       [ 2],\n",
       "       [ 2],\n",
       "       [ 2],\n",
       "       [ 1],\n",
       "       [ 7],\n",
       "       [ 8],\n",
       "       [ 3],\n",
       "       [ 7],\n",
       "       [ 6],\n",
       "       [ 6],\n",
       "       [ 7],\n",
       "       [ 4],\n",
       "       [ 2],\n",
       "       [10],\n",
       "       [ 9],\n",
       "       [ 9],\n",
       "       [ 9],\n",
       "       [ 6],\n",
       "       [ 6],\n",
       "       [ 6],\n",
       "       [ 4],\n",
       "       [ 6],\n",
       "       [ 6],\n",
       "       [ 5],\n",
       "       [ 8],\n",
       "       [ 7],\n",
       "       [ 8],\n",
       "       [ 2],\n",
       "       [ 5],\n",
       "       [ 2],\n",
       "       [ 1],\n",
       "       [ 4],\n",
       "       [ 1],\n",
       "       [ 6],\n",
       "       [ 2],\n",
       "       [ 9],\n",
       "       [ 8],\n",
       "       [ 4],\n",
       "       [ 6],\n",
       "       [ 4],\n",
       "       [ 4],\n",
       "       [ 6],\n",
       "       [ 7],\n",
       "       [ 2],\n",
       "       [ 8],\n",
       "       [ 4],\n",
       "       [ 4],\n",
       "       [ 2],\n",
       "       [ 7],\n",
       "       [ 2]], dtype=int64)"
      ]
     },
     "execution_count": 12,
     "metadata": {},
     "output_type": "execute_result"
    }
   ],
   "execution_count": 12
  },
  {
   "metadata": {
    "ExecuteTime": {
     "end_time": "2024-11-16T18:03:13.214620Z",
     "start_time": "2024-11-16T18:03:13.209485Z"
    }
   },
   "cell_type": "code",
   "source": [
    "y = df.iloc[:,1].values\n",
    "y"
   ],
   "id": "bbefd6120a80ec2d",
   "outputs": [
    {
     "data": {
      "text/plain": [
       "array([3150, 3787, 2991, 4551, 3540, 3881, 2559, 3269, 2767, 2978, 2781,\n",
       "       2632, 2237, 3281, 3940, 3467, 4708, 2328, 4109, 3286, 3952, 3417,\n",
       "       3638, 3289, 2698, 3357, 2669, 3253, 2526, 2922, 3638, 3906, 2793,\n",
       "       3099, 3384, 3819, 4227, 2844, 2753, 3561, 2560, 3256, 2801, 3409,\n",
       "       4553, 2669, 3840, 2841, 3049, 3751, 2748, 2762, 2501, 2389, 3599,\n",
       "       3751, 2825, 3442, 3432, 3335, 3569, 2749, 2669, 4033, 3845, 3632,\n",
       "       3573, 3435, 3665, 3054, 3084, 3588, 3603, 3070, 3417, 3575, 3813,\n",
       "       2644, 3060, 2497, 2479, 2923, 2566, 3483, 2475, 4135, 3661, 3215,\n",
       "       3257, 2781, 2827, 3134, 3397, 2672, 3845, 2884, 2810, 2488, 3661,\n",
       "       2496], dtype=int64)"
      ]
     },
     "execution_count": 13,
     "metadata": {},
     "output_type": "execute_result"
    }
   ],
   "execution_count": 13
  },
  {
   "metadata": {
    "ExecuteTime": {
     "end_time": "2024-11-16T18:03:13.439500Z",
     "start_time": "2024-11-16T18:03:13.331890Z"
    }
   },
   "cell_type": "code",
   "source": "plt.scatter(x,y)",
   "id": "688929910cc8e4f",
   "outputs": [
    {
     "data": {
      "text/plain": [
       "<matplotlib.collections.PathCollection at 0x1e241d4fc50>"
      ]
     },
     "execution_count": 14,
     "metadata": {},
     "output_type": "execute_result"
    },
    {
     "data": {
      "text/plain": [
       "<Figure size 640x480 with 1 Axes>"
      ],
      "image/png": "[encoded data removed]"
     },
     "metadata": {},
     "output_type": "display_data"
    }
   ],
   "execution_count": 14
  },
  {
   "metadata": {
    "ExecuteTime": {
     "end_time": "2024-11-16T18:03:13.482373Z",
     "start_time": "2024-11-16T18:03:13.478399Z"
    }
   },
   "cell_type": "code",
   "source": [
    "# split the data to test and train (test_size 0.2 ya3ni el test bch ikoun 20% mel data)\n",
    "from sklearn.model_selection import train_test_split\n",
    "x_train, x_test, y_train, y_test = train_test_split(x,y,test_size=0.2, random_state=0)"
   ],
   "id": "dbb310680232e56a",
   "outputs": [],
   "execution_count": 15
  },
  {
   "metadata": {
    "ExecuteTime": {
     "end_time": "2024-11-16T18:03:13.503159Z",
     "start_time": "2024-11-16T18:03:13.496701Z"
    }
   },
   "cell_type": "code",
   "source": [
    "from sklearn.linear_model import LinearRegression\n",
    "model = LinearRegression()\n",
    "model.fit(x_train,y_train)\n",
    "y_predicted = model.predict(x_test)\n",
    "acc =model.score(x_train,y_train)\n",
    "print(str(round(acc*100,2)) + \"%\")"
   ],
   "id": "ab6598a89b88c2ba",
   "outputs": [
    {
     "name": "stdout",
     "output_type": "stream",
     "text": [
      "87.74%\n"
     ]
    }
   ],
   "execution_count": 16
  },
  {
   "metadata": {
    "ExecuteTime": {
     "end_time": "2024-11-16T18:03:13.633670Z",
     "start_time": "2024-11-16T18:03:13.525232Z"
    }
   },
   "cell_type": "code",
   "source": [
    "plt.scatter(x_test,y_test)\n",
    "plt.plot(x_test,y_predicted,color='red')"
   ],
   "id": "a2d5fb1464cd9e2f",
   "outputs": [
    {
     "data": {
      "text/plain": [
       "[<matplotlib.lines.Line2D at 0x1e241fe3140>]"
      ]
     },
     "execution_count": 17,
     "metadata": {},
     "output_type": "execute_result"
    },
    {
     "data": {
      "text/plain": [
       "<Figure size 640x480 with 1 Axes>"
      ],
      "image/png": "[encoded data removed]"
     },
     "metadata": {},
     "output_type": "display_data"
    }
   ],
   "execution_count": 17
  },
  {
   "metadata": {
    "ExecuteTime": {
     "end_time": "2024-11-16T18:03:13.652486Z",
     "start_time": "2024-11-16T18:03:13.645321Z"
    }
   },
   "cell_type": "code",
   "source": [
    "df = pd.DataFrame({'Actual': y_test, 'Predicted': model.predict(x_test)})\n",
    "df"
   ],
   "id": "23e915b0f56bba7d",
   "outputs": [
    {
     "data": {
      "text/plain": [
       "    Actual    Predicted\n",
       "0     2669  2816.379669\n",
       "1     3661  3779.682764\n",
       "2     2991  3009.040288\n",
       "3     3751  3779.682764\n",
       "4     3575  3587.022145\n",
       "5     2672  2623.719050\n",
       "6     4708  4165.004002\n",
       "7     3070  3201.700907\n",
       "8     3599  3587.022145\n",
       "9     2884  3009.040288\n",
       "10    2389  2431.058431\n",
       "11    3397  3587.022145\n",
       "12    3060  3201.700907\n",
       "13    3281  3587.022145\n",
       "14    3269  3394.361526\n",
       "15    3638  3587.022145\n",
       "16    3638  3779.682764\n",
       "17    2698  2623.719050\n",
       "18    3099  3201.700907\n",
       "19    2767  2816.379669"
      ],
      "text/html": [
       "<div>\n",
       "<style scoped>\n",
       "    .dataframe tbody tr th:only-of-type {\n",
       "        vertical-align: middle;\n",
       "    }\n",
       "\n",
       "    .dataframe tbody tr th {\n",
       "        vertical-align: top;\n",
       "    }\n",
       "\n",
       "    .dataframe thead th {\n",
       "        text-align: right;\n",
       "    }\n",
       "</style>\n",
       "<table border=\"1\" class=\"dataframe\">\n",
       "  <thead>\n",
       "    <tr style=\"text-align: right;\">\n",
       "      <th></th>\n",
       "      <th>Actual</th>\n",
       "      <th>Predicted</th>\n",
       "    </tr>\n",
       "  </thead>\n",
       "  <tbody>\n",
       "    <tr>\n",
       "      <th>0</th>\n",
       "      <td>2669</td>\n",
       "      <td>2816.379669</td>\n",
       "    </tr>\n",
       "    <tr>\n",
       "      <th>1</th>\n",
       "      <td>3661</td>\n",
       "      <td>3779.682764</td>\n",
       "    </tr>\n",
       "    <tr>\n",
       "      <th>2</th>\n",
       "      <td>2991</td>\n",
       "      <td>3009.040288</td>\n",
       "    </tr>\n",
       "    <tr>\n",
       "      <th>3</th>\n",
       "      <td>3751</td>\n",
       "      <td>3779.682764</td>\n",
       "    </tr>\n",
       "    <tr>\n",
       "      <th>4</th>\n",
       "      <td>3575</td>\n",
       "      <td>3587.022145</td>\n",
       "    </tr>\n",
       "    <tr>\n",
       "      <th>5</th>\n",
       "      <td>2672</td>\n",
       "      <td>2623.719050</td>\n",
       "    </tr>\n",
       "    <tr>\n",
       "      <th>6</th>\n",
       "      <td>4708</td>\n",
       "      <td>4165.004002</td>\n",
       "    </tr>\n",
       "    <tr>\n",
       "      <th>7</th>\n",
       "      <td>3070</td>\n",
       "      <td>3201.700907</td>\n",
       "    </tr>\n",
       "    <tr>\n",
       "      <th>8</th>\n",
       "      <td>3599</td>\n",
       "      <td>3587.022145</td>\n",
       "    </tr>\n",
       "    <tr>\n",
       "      <th>9</th>\n",
       "      <td>2884</td>\n",
       "      <td>3009.040288</td>\n",
       "    </tr>\n",
       "    <tr>\n",
       "      <th>10</th>\n",
       "      <td>2389</td>\n",
       "      <td>2431.058431</td>\n",
       "    </tr>\n",
       "    <tr>\n",
       "      <th>11</th>\n",
       "      <td>3397</td>\n",
       "      <td>3587.022145</td>\n",
       "    </tr>\n",
       "    <tr>\n",
       "      <th>12</th>\n",
       "      <td>3060</td>\n",
       "      <td>3201.700907</td>\n",
       "    </tr>\n",
       "    <tr>\n",
       "      <th>13</th>\n",
       "      <td>3281</td>\n",
       "      <td>3587.022145</td>\n",
       "    </tr>\n",
       "    <tr>\n",
       "      <th>14</th>\n",
       "      <td>3269</td>\n",
       "      <td>3394.361526</td>\n",
       "    </tr>\n",
       "    <tr>\n",
       "      <th>15</th>\n",
       "      <td>3638</td>\n",
       "      <td>3587.022145</td>\n",
       "    </tr>\n",
       "    <tr>\n",
       "      <th>16</th>\n",
       "      <td>3638</td>\n",
       "      <td>3779.682764</td>\n",
       "    </tr>\n",
       "    <tr>\n",
       "      <th>17</th>\n",
       "      <td>2698</td>\n",
       "      <td>2623.719050</td>\n",
       "    </tr>\n",
       "    <tr>\n",
       "      <th>18</th>\n",
       "      <td>3099</td>\n",
       "      <td>3201.700907</td>\n",
       "    </tr>\n",
       "    <tr>\n",
       "      <th>19</th>\n",
       "      <td>2767</td>\n",
       "      <td>2816.379669</td>\n",
       "    </tr>\n",
       "  </tbody>\n",
       "</table>\n",
       "</div>"
      ]
     },
     "execution_count": 18,
     "metadata": {},
     "output_type": "execute_result"
    }
   ],
   "execution_count": 18
  }
 ],
 "metadata": {
  "kernelspec": {
   "display_name": "Python 3",
   "language": "python",
   "name": "python3"
  },
  "language_info": {
   "codemirror_mode": {
    "name": "ipython",
    "version": 2
   },
   "file_extension": ".py",
   "mimetype": "text/x-python",
   "name": "python",
   "nbconvert_exporter": "python",
   "pygments_lexer": "ipython2",
   "version": "2.7.6"
  }
 },
 "nbformat": 4,
 "nbformat_minor": 5
}
